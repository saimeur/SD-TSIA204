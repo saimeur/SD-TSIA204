{
 "cells": [
  {
   "cell_type": "code",
   "execution_count": 10,
   "metadata": {},
   "outputs": [
    {
     "data": {
      "text/plain": [
       "array([[ 0.        ],\n",
       "       [ 0.1010101 ],\n",
       "       [ 0.2020202 ],\n",
       "       [ 0.3030303 ],\n",
       "       [ 0.4040404 ],\n",
       "       [ 0.50505051],\n",
       "       [ 0.60606061],\n",
       "       [ 0.70707071],\n",
       "       [ 0.80808081],\n",
       "       [ 0.90909091],\n",
       "       [ 1.01010101],\n",
       "       [ 1.11111111],\n",
       "       [ 1.21212121],\n",
       "       [ 1.31313131],\n",
       "       [ 1.41414141],\n",
       "       [ 1.51515152],\n",
       "       [ 1.61616162],\n",
       "       [ 1.71717172],\n",
       "       [ 1.81818182],\n",
       "       [ 1.91919192],\n",
       "       [ 2.02020202],\n",
       "       [ 2.12121212],\n",
       "       [ 2.22222222],\n",
       "       [ 2.32323232],\n",
       "       [ 2.42424242],\n",
       "       [ 2.52525253],\n",
       "       [ 2.62626263],\n",
       "       [ 2.72727273],\n",
       "       [ 2.82828283],\n",
       "       [ 2.92929293],\n",
       "       [ 3.03030303],\n",
       "       [ 3.13131313],\n",
       "       [ 3.23232323],\n",
       "       [ 3.33333333],\n",
       "       [ 3.43434343],\n",
       "       [ 3.53535354],\n",
       "       [ 3.63636364],\n",
       "       [ 3.73737374],\n",
       "       [ 3.83838384],\n",
       "       [ 3.93939394],\n",
       "       [ 4.04040404],\n",
       "       [ 4.14141414],\n",
       "       [ 4.24242424],\n",
       "       [ 4.34343434],\n",
       "       [ 4.44444444],\n",
       "       [ 4.54545455],\n",
       "       [ 4.64646465],\n",
       "       [ 4.74747475],\n",
       "       [ 4.84848485],\n",
       "       [ 4.94949495],\n",
       "       [ 5.05050505],\n",
       "       [ 5.15151515],\n",
       "       [ 5.25252525],\n",
       "       [ 5.35353535],\n",
       "       [ 5.45454545],\n",
       "       [ 5.55555556],\n",
       "       [ 5.65656566],\n",
       "       [ 5.75757576],\n",
       "       [ 5.85858586],\n",
       "       [ 5.95959596],\n",
       "       [ 6.06060606],\n",
       "       [ 6.16161616],\n",
       "       [ 6.26262626],\n",
       "       [ 6.36363636],\n",
       "       [ 6.46464646],\n",
       "       [ 6.56565657],\n",
       "       [ 6.66666667],\n",
       "       [ 6.76767677],\n",
       "       [ 6.86868687],\n",
       "       [ 6.96969697],\n",
       "       [ 7.07070707],\n",
       "       [ 7.17171717],\n",
       "       [ 7.27272727],\n",
       "       [ 7.37373737],\n",
       "       [ 7.47474747],\n",
       "       [ 7.57575758],\n",
       "       [ 7.67676768],\n",
       "       [ 7.77777778],\n",
       "       [ 7.87878788],\n",
       "       [ 7.97979798],\n",
       "       [ 8.08080808],\n",
       "       [ 8.18181818],\n",
       "       [ 8.28282828],\n",
       "       [ 8.38383838],\n",
       "       [ 8.48484848],\n",
       "       [ 8.58585859],\n",
       "       [ 8.68686869],\n",
       "       [ 8.78787879],\n",
       "       [ 8.88888889],\n",
       "       [ 8.98989899],\n",
       "       [ 9.09090909],\n",
       "       [ 9.19191919],\n",
       "       [ 9.29292929],\n",
       "       [ 9.39393939],\n",
       "       [ 9.49494949],\n",
       "       [ 9.5959596 ],\n",
       "       [ 9.6969697 ],\n",
       "       [ 9.7979798 ],\n",
       "       [ 9.8989899 ],\n",
       "       [10.        ]])"
      ]
     },
     "execution_count": 10,
     "metadata": {},
     "output_type": "execute_result"
    }
   ],
   "source": [
    "import numpy as np\n",
    "import matplotlib.pyplot as plt\n",
    "from sklearn.linear_model import LinearRegression\n",
    "# Generate example data\n",
    "np.random.seed(42)\n",
    "X_new"
   ]
  },
  {
   "cell_type": "code",
   "execution_count": 9,
   "metadata": {},
   "outputs": [
    {
     "data": {
      "text/plain": [
       "Text(0, 0.5, 'y')"
      ]
     },
     "execution_count": 9,
     "metadata": {},
     "output_type": "execute_result"
    },
    {
     "data": {
      "image/png": "[encoded data removed]",
      "text/plain": [
       "<Figure size 640x480 with 1 Axes>"
      ]
     },
     "metadata": {},
     "output_type": "display_data"
    }
   ],
   "source": [
    "X = np.random.rand(20, 1)*10 # Independent variable\n",
    "y = 2 * X + 3 + np.random.randn(20, 1) # Dependent variable\n",
    "# Fit linear regression model\n",
    "model = LinearRegression()\n",
    "model.fit(X, y)\n",
    "# Predict y values using the model\n",
    "X_new = np.linspace(0, 10, 100).reshape(-1, 1)\n",
    "y_pred = model.predict(X_new)\n",
    "# Create a scatter plot of the data points\n",
    "plt.scatter(X, y, label='Data Points')\n",
    "# Plot the linear regression line\n",
    "plt.plot(X_new, y_pred, color='red', label='Linear Regression Line')\n",
    "plt.xlabel('X')\n",
    "plt.ylabel('y')"
   ]
  }
 ],
 "metadata": {
  "kernelspec": {
   "display_name": "MDI_220_env",
   "language": "python",
   "name": "python3"
  },
  "language_info": {
   "codemirror_mode": {
    "name": "ipython",
    "version": 3
   },
   "file_extension": ".py",
   "mimetype": "text/x-python",
   "name": "python",
   "nbconvert_exporter": "python",
   "pygments_lexer": "ipython3",
   "version": "3.12.0"
  }
 },
 "nbformat": 4,
 "nbformat_minor": 2
}
